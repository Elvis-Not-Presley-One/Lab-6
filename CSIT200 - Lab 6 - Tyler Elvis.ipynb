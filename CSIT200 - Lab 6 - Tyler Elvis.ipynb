{
 "cells": [
  {
   "cell_type": "markdown",
   "id": "4494d338-52ab-4981-a204-c3c62bd8061b",
   "metadata": {},
   "source": [
    "# Lab 6 Problem 1"
   ]
  },
  {
   "cell_type": "code",
   "execution_count": 90,
   "id": "0c56ce91-2093-4b5d-a5e9-03f1109da080",
   "metadata": {},
   "outputs": [
    {
     "name": "stdout",
     "output_type": "stream",
     "text": [
      "COMMAND MENU\n",
      "list - Display all games\n",
      "view - View a game\n",
      "add - Add a game\n",
      "del - Delete a game\n",
      "exit - Exit program\n"
     ]
    },
    {
     "name": "stdin",
     "output_type": "stream",
     "text": [
      "\n",
      "Enter Command:  list\n"
     ]
    },
    {
     "name": "stdout",
     "output_type": "stream",
     "text": [
      "\n",
      "1. Mario Kart 8\n",
      "2. Super Smash Brothers\n",
      "3. Fortnite\n",
      "\n",
      "COMMAND MENU\n",
      "list - Display all games\n",
      "view - View a game\n",
      "add - Add a game\n",
      "del - Delete a game\n",
      "exit - Exit program\n"
     ]
    },
    {
     "name": "stdin",
     "output_type": "stream",
     "text": [
      "\n",
      "Enter Command:  exit\n"
     ]
    },
    {
     "name": "stdout",
     "output_type": "stream",
     "text": [
      "Bye\n"
     ]
    }
   ],
   "source": [
    "# Author: Tyler Elvis \n",
    "# this code displays a menu for games and does things based off the menu \n",
    "\n",
    "def display_menu():\n",
    "    \"\"\"\n",
    "    The display_menu() function displays the menu \n",
    "    \"\"\"\n",
    "    print(\"COMMAND MENU\")\n",
    "    print(\"list - Display all games\")\n",
    "    print(\"view - View a game\")\n",
    "    print(\"add - Add a game\")\n",
    "    print(\"del - Delete a game\")\n",
    "    print(\"exit - Exit program\")\n",
    "\n",
    "\n",
    "def list(game_list):\n",
    "    \"\"\"\n",
    "    The list() function shows a list of all games availble\n",
    "    param: game_list List of games\n",
    "    \"\"\"\n",
    "    if len(game_list) == 0:\n",
    "        print(\"There are no games in the list.\\n\")\n",
    "    else:\n",
    "        i = 1\n",
    "        print()\n",
    "        for row in game_list:\n",
    "            print(str(i) + \". \" + row[0])\n",
    "            i += 1\n",
    "        \n",
    "        print()\n",
    "\n",
    "def view(game_list):\n",
    "    \"\"\"\n",
    "    the view() function views the game high score and its email\n",
    "    param: game_list, list of all the info \n",
    "    \"\"\"\n",
    "    number = int(input(\"Number: \"))\n",
    "    if number < 1 or number > len(game_list):\n",
    "        print(\"Invalid game number.\\n\")\n",
    "    else:\n",
    "        game = game_list[number-1]\n",
    "        game_name = print(\"Game: \" + game[0])\n",
    "        email = print(\"High Scorer Email: \" + game[1])\n",
    "        high_score = print(\"High Score: \" + str(game[2]))\n",
    "\n",
    "    print()\n",
    "\n",
    "\n",
    "def add(game_list):\n",
    "    \"\"\"\n",
    "    the add() function adds a game and its data into the list \n",
    "    param: game_list, list of the games\n",
    "    \"\"\"\n",
    "    name = input(\"Game: \")\n",
    "    year = input(\"High Scorer Email: \")\n",
    "    price = input(\"High Score: \")\n",
    "    game = []\n",
    "    game.append(name)\n",
    "    game.append(year)\n",
    "    game.append(price)\n",
    "    game_list.append(game)\n",
    "    print(game[0] + \" was added.\\n\")\n",
    "\n",
    "\n",
    "def delete(game_list):\n",
    "    \"\"\"\n",
    "    the delete() function deltes a game from the list \n",
    "    param: game_list, list of all the games \n",
    "    \"\"\"\n",
    "    number = int(input(\"Number: \"))\n",
    "    if number < 1 or number > len(game_list):\n",
    "        print(\"Invalid game number.\\n\")\n",
    "    else:\n",
    "        \n",
    "        game = game_list.pop(number-1)\n",
    "        print(game[0] + \" was deleted.\\n\")\n",
    "\n",
    "\n",
    "def main():\n",
    "    \"\"\"\n",
    "    the main() function is the main function and does main function things \n",
    "    \"\"\"\n",
    "    game_list = [[\"Mario Kart 8\", \"you@gmail.com\", \"56,596\"],\n",
    "                     [\"Super Smash Brothers\", \"meme@me.com\", \"23,458\"],\n",
    "                    [\"Fortnite\", \"notmeme@me.com\", \"56\"]]\n",
    "              \n",
    "    display_menu()\n",
    "    command = input(\"\\nEnter Command: \")\n",
    "        \n",
    "    while (command.lower() != \"exit\"):\n",
    "        \n",
    "        if command.lower() == \"list\":\n",
    "            list(game_list)\n",
    "            display_menu()\n",
    "        elif command.lower() == \"add\":\n",
    "            add(game_list)\n",
    "            display_menu()\n",
    "        elif command.lower() == \"del\":\n",
    "            delete(game_list)\n",
    "            display_menu()\n",
    "        elif command.lower() == \"view\":\n",
    "            view(game_list)\n",
    "            display_menu()\n",
    "        else:\n",
    "            print(\"Not a valid command.  Please try again.\\n\")\n",
    "\n",
    "        command = input(\"\\nEnter Command: \")\n",
    "         \n",
    "    print(\"Bye\")     \n",
    "\n",
    "# gets the main \n",
    "if __name__ == \"__main__\":\n",
    "    main()\n",
    "  \n",
    "          "
   ]
  },
  {
   "cell_type": "code",
   "execution_count": null,
   "id": "16accb50-2400-4bc0-ab23-b3101272f35c",
   "metadata": {},
   "outputs": [],
   "source": []
  }
 ],
 "metadata": {
  "kernelspec": {
   "display_name": "Python 3 (ipykernel)",
   "language": "python",
   "name": "python3"
  },
  "language_info": {
   "codemirror_mode": {
    "name": "ipython",
    "version": 3
   },
   "file_extension": ".py",
   "mimetype": "text/x-python",
   "name": "python",
   "nbconvert_exporter": "python",
   "pygments_lexer": "ipython3",
   "version": "3.12.4"
  }
 },
 "nbformat": 4,
 "nbformat_minor": 5
}
